{
 "cells": [
  {
   "cell_type": "code",
   "execution_count": 4,
   "metadata": {
    "id": "oYXkOCmrbKvG"
   },
   "outputs": [],
   "source": [
    "import numpy as np\n",
    "import pandas as pd\n",
    "\n",
    "from PIL import Image\n",
    "import matplotlib\n",
    "import matplotlib.pyplot as plt\n",
    "import matplotlib.patches as mpatches\n",
    "\n",
    "import torch\n",
    "from torch import nn\n",
    "from torch import optim\n",
    "import torch.optim as optim\n",
    "import torch.nn.functional as F\n",
    "from torchvision import transforms, models\n",
    "from torch.autograd import Variable\n",
    "from torchvision.datasets import ImageFolder\n",
    "import torch.utils.data as data\n",
    "from torch.utils.data import DataLoader, TensorDataset\n",
    "\n",
    "from torchsummary import summary"
   ]
  },
  {
   "cell_type": "code",
   "execution_count": 6,
   "metadata": {},
   "outputs": [
    {
     "name": "stdout",
     "output_type": "stream",
     "text": [
      "Collecting torchsummary\n",
      "  Downloading torchsummary-1.5.1-py3-none-any.whl (2.8 kB)\n",
      "Installing collected packages: torchsummary\n",
      "Successfully installed torchsummary-1.5.1\n",
      "Note: you may need to restart the kernel to use updated packages.\n"
     ]
    }
   ],
   "source": [
    "pip install torchsummary"
   ]
  },
  {
   "cell_type": "code",
   "execution_count": 9,
   "metadata": {},
   "outputs": [
    {
     "name": "stdout",
     "output_type": "stream",
     "text": [
      "Requirement already satisfied: tensorflow in c:\\users\\tanay\\anaconda3\\lib\\site-packages (2.11.0)\n",
      "Requirement already satisfied: tensorflow-intel==2.11.0 in c:\\users\\tanay\\anaconda3\\lib\\site-packages (from tensorflow) (2.11.0)\n",
      "Requirement already satisfied: libclang>=13.0.0 in c:\\users\\tanay\\anaconda3\\lib\\site-packages (from tensorflow-intel==2.11.0->tensorflow) (14.0.6)\n",
      "Requirement already satisfied: setuptools in c:\\users\\tanay\\anaconda3\\lib\\site-packages (from tensorflow-intel==2.11.0->tensorflow) (63.4.1)\n",
      "Requirement already satisfied: google-pasta>=0.1.1 in c:\\users\\tanay\\anaconda3\\lib\\site-packages (from tensorflow-intel==2.11.0->tensorflow) (0.2.0)\n",
      "Requirement already satisfied: opt-einsum>=2.3.2 in c:\\users\\tanay\\anaconda3\\lib\\site-packages (from tensorflow-intel==2.11.0->tensorflow) (3.3.0)\n",
      "Requirement already satisfied: absl-py>=1.0.0 in c:\\users\\tanay\\anaconda3\\lib\\site-packages (from tensorflow-intel==2.11.0->tensorflow) (1.3.0)\n",
      "Requirement already satisfied: protobuf<3.20,>=3.9.2 in c:\\users\\tanay\\anaconda3\\lib\\site-packages (from tensorflow-intel==2.11.0->tensorflow) (3.19.6)\n",
      "Requirement already satisfied: tensorflow-io-gcs-filesystem>=0.23.1 in c:\\users\\tanay\\anaconda3\\lib\\site-packages (from tensorflow-intel==2.11.0->tensorflow) (0.29.0)\n",
      "Requirement already satisfied: termcolor>=1.1.0 in c:\\users\\tanay\\anaconda3\\lib\\site-packages (from tensorflow-intel==2.11.0->tensorflow) (2.1.1)\n",
      "Requirement already satisfied: tensorflow-estimator<2.12,>=2.11.0 in c:\\users\\tanay\\anaconda3\\lib\\site-packages (from tensorflow-intel==2.11.0->tensorflow) (2.11.0)\n",
      "Requirement already satisfied: packaging in c:\\users\\tanay\\anaconda3\\lib\\site-packages (from tensorflow-intel==2.11.0->tensorflow) (21.3)\n",
      "Requirement already satisfied: wrapt>=1.11.0 in c:\\users\\tanay\\anaconda3\\lib\\site-packages (from tensorflow-intel==2.11.0->tensorflow) (1.14.1)\n",
      "Requirement already satisfied: gast<=0.4.0,>=0.2.1 in c:\\users\\tanay\\anaconda3\\lib\\site-packages (from tensorflow-intel==2.11.0->tensorflow) (0.4.0)\n",
      "Requirement already satisfied: six>=1.12.0 in c:\\users\\tanay\\anaconda3\\lib\\site-packages (from tensorflow-intel==2.11.0->tensorflow) (1.16.0)\n",
      "Requirement already satisfied: flatbuffers>=2.0 in c:\\users\\tanay\\anaconda3\\lib\\site-packages (from tensorflow-intel==2.11.0->tensorflow) (22.12.6)\n",
      "Requirement already satisfied: grpcio<2.0,>=1.24.3 in c:\\users\\tanay\\anaconda3\\lib\\site-packages (from tensorflow-intel==2.11.0->tensorflow) (1.51.1)\n",
      "Requirement already satisfied: astunparse>=1.6.0 in c:\\users\\tanay\\anaconda3\\lib\\site-packages (from tensorflow-intel==2.11.0->tensorflow) (1.6.3)\n",
      "Requirement already satisfied: typing-extensions>=3.6.6 in c:\\users\\tanay\\anaconda3\\lib\\site-packages (from tensorflow-intel==2.11.0->tensorflow) (4.3.0)\n",
      "Requirement already satisfied: numpy>=1.20 in c:\\users\\tanay\\anaconda3\\lib\\site-packages (from tensorflow-intel==2.11.0->tensorflow) (1.21.5)\n",
      "Collecting keras<2.12,>=2.11.0\n",
      "  Using cached keras-2.11.0-py2.py3-none-any.whl (1.7 MB)\n",
      "Requirement already satisfied: h5py>=2.9.0 in c:\\users\\tanay\\anaconda3\\lib\\site-packages (from tensorflow-intel==2.11.0->tensorflow) (3.7.0)\n",
      "Requirement already satisfied: tensorboard<2.12,>=2.11 in c:\\users\\tanay\\anaconda3\\lib\\site-packages (from tensorflow-intel==2.11.0->tensorflow) (2.11.0)\n",
      "Requirement already satisfied: wheel<1.0,>=0.23.0 in c:\\users\\tanay\\anaconda3\\lib\\site-packages (from astunparse>=1.6.0->tensorflow-intel==2.11.0->tensorflow) (0.37.1)\n",
      "Requirement already satisfied: tensorboard-plugin-wit>=1.6.0 in c:\\users\\tanay\\anaconda3\\lib\\site-packages (from tensorboard<2.12,>=2.11->tensorflow-intel==2.11.0->tensorflow) (1.8.1)\n",
      "Requirement already satisfied: tensorboard-data-server<0.7.0,>=0.6.0 in c:\\users\\tanay\\anaconda3\\lib\\site-packages (from tensorboard<2.12,>=2.11->tensorflow-intel==2.11.0->tensorflow) (0.6.1)\n",
      "Requirement already satisfied: google-auth<3,>=1.6.3 in c:\\users\\tanay\\anaconda3\\lib\\site-packages (from tensorboard<2.12,>=2.11->tensorflow-intel==2.11.0->tensorflow) (2.15.0)\n",
      "Requirement already satisfied: markdown>=2.6.8 in c:\\users\\tanay\\anaconda3\\lib\\site-packages (from tensorboard<2.12,>=2.11->tensorflow-intel==2.11.0->tensorflow) (3.3.4)\n",
      "Requirement already satisfied: werkzeug>=1.0.1 in c:\\users\\tanay\\anaconda3\\lib\\site-packages (from tensorboard<2.12,>=2.11->tensorflow-intel==2.11.0->tensorflow) (2.0.3)\n",
      "Requirement already satisfied: google-auth-oauthlib<0.5,>=0.4.1 in c:\\users\\tanay\\anaconda3\\lib\\site-packages (from tensorboard<2.12,>=2.11->tensorflow-intel==2.11.0->tensorflow) (0.4.6)\n",
      "Requirement already satisfied: requests<3,>=2.21.0 in c:\\users\\tanay\\anaconda3\\lib\\site-packages (from tensorboard<2.12,>=2.11->tensorflow-intel==2.11.0->tensorflow) (2.28.1)\n",
      "Requirement already satisfied: pyparsing!=3.0.5,>=2.0.2 in c:\\users\\tanay\\anaconda3\\lib\\site-packages (from packaging->tensorflow-intel==2.11.0->tensorflow) (3.0.9)\n",
      "Requirement already satisfied: rsa<5,>=3.1.4 in c:\\users\\tanay\\anaconda3\\lib\\site-packages (from google-auth<3,>=1.6.3->tensorboard<2.12,>=2.11->tensorflow-intel==2.11.0->tensorflow) (4.9)\n",
      "Requirement already satisfied: pyasn1-modules>=0.2.1 in c:\\users\\tanay\\anaconda3\\lib\\site-packages (from google-auth<3,>=1.6.3->tensorboard<2.12,>=2.11->tensorflow-intel==2.11.0->tensorflow) (0.2.8)\n",
      "Requirement already satisfied: cachetools<6.0,>=2.0.0 in c:\\users\\tanay\\anaconda3\\lib\\site-packages (from google-auth<3,>=1.6.3->tensorboard<2.12,>=2.11->tensorflow-intel==2.11.0->tensorflow) (5.2.0)\n",
      "Requirement already satisfied: requests-oauthlib>=0.7.0 in c:\\users\\tanay\\anaconda3\\lib\\site-packages (from google-auth-oauthlib<0.5,>=0.4.1->tensorboard<2.12,>=2.11->tensorflow-intel==2.11.0->tensorflow) (1.3.1)\n",
      "Requirement already satisfied: certifi>=2017.4.17 in c:\\users\\tanay\\anaconda3\\lib\\site-packages (from requests<3,>=2.21.0->tensorboard<2.12,>=2.11->tensorflow-intel==2.11.0->tensorflow) (2022.9.14)\n",
      "Requirement already satisfied: idna<4,>=2.5 in c:\\users\\tanay\\anaconda3\\lib\\site-packages (from requests<3,>=2.21.0->tensorboard<2.12,>=2.11->tensorflow-intel==2.11.0->tensorflow) (3.3)\n",
      "Requirement already satisfied: charset-normalizer<3,>=2 in c:\\users\\tanay\\anaconda3\\lib\\site-packages (from requests<3,>=2.21.0->tensorboard<2.12,>=2.11->tensorflow-intel==2.11.0->tensorflow) (2.0.4)\n",
      "Requirement already satisfied: urllib3<1.27,>=1.21.1 in c:\\users\\tanay\\anaconda3\\lib\\site-packages (from requests<3,>=2.21.0->tensorboard<2.12,>=2.11->tensorflow-intel==2.11.0->tensorflow) (1.26.11)\n",
      "Requirement already satisfied: pyasn1<0.5.0,>=0.4.6 in c:\\users\\tanay\\anaconda3\\lib\\site-packages (from pyasn1-modules>=0.2.1->google-auth<3,>=1.6.3->tensorboard<2.12,>=2.11->tensorflow-intel==2.11.0->tensorflow) (0.4.8)\n",
      "Requirement already satisfied: oauthlib>=3.0.0 in c:\\users\\tanay\\anaconda3\\lib\\site-packages (from requests-oauthlib>=0.7.0->google-auth-oauthlib<0.5,>=0.4.1->tensorboard<2.12,>=2.11->tensorflow-intel==2.11.0->tensorflow) (3.2.2)\n",
      "Installing collected packages: keras\n",
      "  Attempting uninstall: keras\n",
      "    Found existing installation: Keras 2.3.1\n",
      "    Uninstalling Keras-2.3.1:\n",
      "      Successfully uninstalled Keras-2.3.1\n",
      "Successfully installed keras-2.11.0\n",
      "Note: you may need to restart the kernel to use updated packages.\n"
     ]
    }
   ],
   "source": [
    "pip install tensorflow"
   ]
  },
  {
   "cell_type": "code",
   "execution_count": 2,
   "metadata": {
    "colab": {
     "base_uri": "https://localhost:8080/"
    },
    "id": "EBaURppHbLR8",
    "outputId": "6fe9cd3b-46da-447c-dd6a-67ec84884a27"
   },
   "outputs": [
    {
     "name": "stdout",
     "output_type": "stream",
     "text": [
      "cpu\n"
     ]
    }
   ],
   "source": [
    "DEVICE = torch.device('cuda') if torch.cuda.is_available() else torch.device('cpu')\n",
    "print(DEVICE)"
   ]
  },
  {
   "cell_type": "code",
   "execution_count": 2,
   "metadata": {
    "colab": {
     "base_uri": "https://localhost:8080/"
    },
    "id": "qYD2sXeBhkOU",
    "outputId": "a0c1896f-bdf9-436f-e221-a2f9a54aab98"
   },
   "outputs": [
    {
     "name": "stdout",
     "output_type": "stream",
     "text": [
      "['train', 'train_image_paths.csv', 'train_labeled_studies.csv', 'valid', 'valid_image_paths.csv', 'valid_labeled_studies.csv']\n"
     ]
    }
   ],
   "source": [
    "#importing the necessary libraries\n",
    "import tensorflow as tf\n",
    "from tensorflow.keras import layers\n",
    "from skimage.io import imshow\n",
    "from pathlib import Path\n",
    "import pandas as pd\n",
    "\n",
    "# Input data files are available in the \"../mura_unzipped/\" directory.\n",
    "# Running this (by clicking run or pressing Shift+Enter) will list the files in the input directory\n",
    "\n",
    "import os\n",
    "print(os.listdir(\"D:/codes/GAIP-NUS/MURA-v1.1/MURA-2\"))"
   ]
  },
  {
   "cell_type": "code",
   "execution_count": 8,
   "metadata": {},
   "outputs": [
    {
     "name": "stdout",
     "output_type": "stream",
     "text": [
      "Collecting skimage\n",
      "  Downloading skimage-0.0.tar.gz (757 bytes)\n",
      "  Preparing metadata (setup.py): started\n",
      "  Preparing metadata (setup.py): finished with status 'error'\n",
      "Note: you may need to restart the kernel to use updated packages.\n"
     ]
    },
    {
     "name": "stderr",
     "output_type": "stream",
     "text": [
      "  error: subprocess-exited-with-error\n",
      "  \n",
      "  python setup.py egg_info did not run successfully.\n",
      "  exit code: 1\n",
      "  \n",
      "  [3 lines of output]\n",
      "  \n",
      "  *** Please install the `scikit-image` package (instead of `skimage`) ***\n",
      "  \n",
      "  [end of output]\n",
      "  \n",
      "  note: This error originates from a subprocess, and is likely not a problem with pip.\n",
      "error: metadata-generation-failed\n",
      "\n",
      "Encountered error while generating package metadata.\n",
      "\n",
      "See above for output.\n",
      "\n",
      "note: This is an issue with the package mentioned above, not pip.\n",
      "hint: See above for details.\n"
     ]
    }
   ],
   "source": [
    "pip install skimage"
   ]
  },
  {
   "cell_type": "code",
   "execution_count": 3,
   "metadata": {
    "id": "FJbC9OlYrNVC"
   },
   "outputs": [],
   "source": [
    "dataset_root = Path('D:/codes/GAIP-NUS/MURA-v1.1/MURA-2')"
   ]
  },
  {
   "cell_type": "code",
   "execution_count": 4,
   "metadata": {
    "colab": {
     "base_uri": "https://localhost:8080/"
    },
    "id": "s_FJohApztbz",
    "outputId": "077e0af8-c912-4897-d3f8-842c40721ca7"
   },
   "outputs": [
    {
     "data": {
      "text/plain": [
       "[WindowsPath('D:/codes/GAIP-NUS/MURA-v1.1/MURA-2/train'),\n",
       " WindowsPath('D:/codes/GAIP-NUS/MURA-v1.1/MURA-2/train_image_paths.csv'),\n",
       " WindowsPath('D:/codes/GAIP-NUS/MURA-v1.1/MURA-2/train_labeled_studies.csv'),\n",
       " WindowsPath('D:/codes/GAIP-NUS/MURA-v1.1/MURA-2/valid'),\n",
       " WindowsPath('D:/codes/GAIP-NUS/MURA-v1.1/MURA-2/valid_image_paths.csv'),\n",
       " WindowsPath('D:/codes/GAIP-NUS/MURA-v1.1/MURA-2/valid_labeled_studies.csv')]"
      ]
     },
     "execution_count": 4,
     "metadata": {},
     "output_type": "execute_result"
    }
   ],
   "source": [
    "list(dataset_root.iterdir())"
   ]
  },
  {
   "cell_type": "code",
   "execution_count": 5,
   "metadata": {
    "colab": {
     "base_uri": "https://localhost:8080/",
     "height": 206
    },
    "id": "qRQTY6EMrQYb",
    "outputId": "e9b4a7a1-3a19-411a-a704-61fe60b46481"
   },
   "outputs": [
    {
     "data": {
      "text/html": [
       "<div>\n",
       "<style scoped>\n",
       "    .dataframe tbody tr th:only-of-type {\n",
       "        vertical-align: middle;\n",
       "    }\n",
       "\n",
       "    .dataframe tbody tr th {\n",
       "        vertical-align: top;\n",
       "    }\n",
       "\n",
       "    .dataframe thead th {\n",
       "        text-align: right;\n",
       "    }\n",
       "</style>\n",
       "<table border=\"1\" class=\"dataframe\">\n",
       "  <thead>\n",
       "    <tr style=\"text-align: right;\">\n",
       "      <th></th>\n",
       "      <th>filename</th>\n",
       "    </tr>\n",
       "  </thead>\n",
       "  <tbody>\n",
       "    <tr>\n",
       "      <th>0</th>\n",
       "      <td>D:/codes/GAIP-NUS/MURA-v1.1/MURA-2/train/XR_SH...</td>\n",
       "    </tr>\n",
       "    <tr>\n",
       "      <th>1</th>\n",
       "      <td>D:/codes/GAIP-NUS/MURA-v1.1/MURA-2/train/XR_SH...</td>\n",
       "    </tr>\n",
       "    <tr>\n",
       "      <th>2</th>\n",
       "      <td>D:/codes/GAIP-NUS/MURA-v1.1/MURA-2/train/XR_SH...</td>\n",
       "    </tr>\n",
       "    <tr>\n",
       "      <th>3</th>\n",
       "      <td>D:/codes/GAIP-NUS/MURA-v1.1/MURA-2/train/XR_SH...</td>\n",
       "    </tr>\n",
       "    <tr>\n",
       "      <th>4</th>\n",
       "      <td>D:/codes/GAIP-NUS/MURA-v1.1/MURA-2/train/XR_SH...</td>\n",
       "    </tr>\n",
       "  </tbody>\n",
       "</table>\n",
       "</div>"
      ],
      "text/plain": [
       "                                            filename\n",
       "0  D:/codes/GAIP-NUS/MURA-v1.1/MURA-2/train/XR_SH...\n",
       "1  D:/codes/GAIP-NUS/MURA-v1.1/MURA-2/train/XR_SH...\n",
       "2  D:/codes/GAIP-NUS/MURA-v1.1/MURA-2/train/XR_SH...\n",
       "3  D:/codes/GAIP-NUS/MURA-v1.1/MURA-2/train/XR_SH...\n",
       "4  D:/codes/GAIP-NUS/MURA-v1.1/MURA-2/train/XR_SH..."
      ]
     },
     "execution_count": 5,
     "metadata": {},
     "output_type": "execute_result"
    }
   ],
   "source": [
    "#df is the generated dataframe whose head can be visualized below\n",
    "df = pd.read_csv('D:/codes/GAIP-NUS/MURA-v1.1/MURA-2/train_image_paths.csv', header=None, names=['filename'])\n",
    "df.head()"
   ]
  },
  {
   "cell_type": "code",
   "execution_count": 6,
   "metadata": {
    "colab": {
     "base_uri": "https://localhost:8080/",
     "height": 206
    },
    "id": "9NA-YHpurSsk",
    "outputId": "92cb644c-0fa6-4972-ddad-fa52137299ac"
   },
   "outputs": [
    {
     "data": {
      "text/html": [
       "<div>\n",
       "<style scoped>\n",
       "    .dataframe tbody tr th:only-of-type {\n",
       "        vertical-align: middle;\n",
       "    }\n",
       "\n",
       "    .dataframe tbody tr th {\n",
       "        vertical-align: top;\n",
       "    }\n",
       "\n",
       "    .dataframe thead th {\n",
       "        text-align: right;\n",
       "    }\n",
       "</style>\n",
       "<table border=\"1\" class=\"dataframe\">\n",
       "  <thead>\n",
       "    <tr style=\"text-align: right;\">\n",
       "      <th></th>\n",
       "      <th>filename</th>\n",
       "      <th>class</th>\n",
       "    </tr>\n",
       "  </thead>\n",
       "  <tbody>\n",
       "    <tr>\n",
       "      <th>0</th>\n",
       "      <td>D:/codes/GAIP-NUS/MURA-v1.1/MURA-2/train/XR_SH...</td>\n",
       "      <td>positive</td>\n",
       "    </tr>\n",
       "    <tr>\n",
       "      <th>1</th>\n",
       "      <td>D:/codes/GAIP-NUS/MURA-v1.1/MURA-2/train/XR_SH...</td>\n",
       "      <td>positive</td>\n",
       "    </tr>\n",
       "    <tr>\n",
       "      <th>2</th>\n",
       "      <td>D:/codes/GAIP-NUS/MURA-v1.1/MURA-2/train/XR_SH...</td>\n",
       "      <td>positive</td>\n",
       "    </tr>\n",
       "    <tr>\n",
       "      <th>3</th>\n",
       "      <td>D:/codes/GAIP-NUS/MURA-v1.1/MURA-2/train/XR_SH...</td>\n",
       "      <td>positive</td>\n",
       "    </tr>\n",
       "    <tr>\n",
       "      <th>4</th>\n",
       "      <td>D:/codes/GAIP-NUS/MURA-v1.1/MURA-2/train/XR_SH...</td>\n",
       "      <td>positive</td>\n",
       "    </tr>\n",
       "  </tbody>\n",
       "</table>\n",
       "</div>"
      ],
      "text/plain": [
       "                                            filename     class\n",
       "0  D:/codes/GAIP-NUS/MURA-v1.1/MURA-2/train/XR_SH...  positive\n",
       "1  D:/codes/GAIP-NUS/MURA-v1.1/MURA-2/train/XR_SH...  positive\n",
       "2  D:/codes/GAIP-NUS/MURA-v1.1/MURA-2/train/XR_SH...  positive\n",
       "3  D:/codes/GAIP-NUS/MURA-v1.1/MURA-2/train/XR_SH...  positive\n",
       "4  D:/codes/GAIP-NUS/MURA-v1.1/MURA-2/train/XR_SH...  positive"
      ]
     },
     "execution_count": 6,
     "metadata": {},
     "output_type": "execute_result"
    }
   ],
   "source": [
    "#Adding class column to the dataframe with positive or negative label\n",
    "#Classification is done on basis of the image names (postive/negative)\n",
    "df['class'] = (df.filename.str.extract('study.*_(positive|negative)'))\n",
    "df.head()"
   ]
  },
  {
   "cell_type": "code",
   "execution_count": 7,
   "metadata": {
    "id": "2iOet4p3rVVO"
   },
   "outputs": [],
   "source": [
    "#A function to generate the dataframe for a csv file\n",
    "def generate_df(csv_name):\n",
    "    df = pd.read_csv(csv_name, header=None, names=['filename'])\n",
    "    df['class'] = (df.filename\n",
    "               .str.extract('study.*_(positive|negative)'))\n",
    "    return df"
   ]
  },
  {
   "cell_type": "code",
   "execution_count": 8,
   "metadata": {
    "colab": {
     "base_uri": "https://localhost:8080/"
    },
    "id": "Jny_7oLerW_v",
    "outputId": "aa3674cc-2ed8-4e81-925e-a7c1f2f8ace2"
   },
   "outputs": [
    {
     "data": {
      "text/plain": [
       "[WindowsPath('D:/codes/GAIP-NUS/MURA-v1.1/MURA-2/train'),\n",
       " WindowsPath('D:/codes/GAIP-NUS/MURA-v1.1/MURA-2/train_image_paths.csv'),\n",
       " WindowsPath('D:/codes/GAIP-NUS/MURA-v1.1/MURA-2/train_labeled_studies.csv'),\n",
       " WindowsPath('D:/codes/GAIP-NUS/MURA-v1.1/MURA-2/valid'),\n",
       " WindowsPath('D:/codes/GAIP-NUS/MURA-v1.1/MURA-2/valid_image_paths.csv'),\n",
       " WindowsPath('D:/codes/GAIP-NUS/MURA-v1.1/MURA-2/valid_labeled_studies.csv')]"
      ]
     },
     "execution_count": 8,
     "metadata": {},
     "output_type": "execute_result"
    }
   ],
   "source": [
    "list(dataset_root.iterdir())"
   ]
  },
  {
   "cell_type": "code",
   "execution_count": 9,
   "metadata": {
    "colab": {
     "base_uri": "https://localhost:8080/",
     "height": 269
    },
    "id": "3FTLlF9ZrZ6n",
    "outputId": "ad4d3f4b-3c6b-41a2-f995-88817cdcf2a8"
   },
   "outputs": [
    {
     "name": "stdout",
     "output_type": "stream",
     "text": [
      "Found 23237 validated image filenames belonging to 2 classes.\n",
      "Found 1683 validated image filenames belonging to 2 classes.\n"
     ]
    }
   ],
   "source": [
    "#Dividing the image data generated into train set and validation set\n",
    "datagen = tf.keras.preprocessing.image.ImageDataGenerator(rescale = 1. / 255)\n",
    "#Creating training set\n",
    "train_gen = datagen.flow_from_dataframe(generate_df('D:/codes/GAIP-NUS/MURA-v1.1/MURA-2/train_image_paths.csv'),\n",
    "                                        directory=dataset_root.parent,\n",
    "                                        target_size=(224, 224),\n",
    "                                        class_mode='binary')\n",
    "#Creating validation set\n",
    "valid_gen = datagen.flow_from_dataframe(generate_df('D:/codes/GAIP-NUS/MURA-v1.1/MURA-2/valid_image_paths.csv'),\n",
    "                                        directory=dataset_root.parent,\n",
    "                                        target_size=(224, 224),\n",
    "                                        class_mode='binary')"
   ]
  },
  {
   "cell_type": "code",
   "execution_count": 10,
   "metadata": {
    "colab": {
     "base_uri": "https://localhost:8080/"
    },
    "id": "gPBW8SS1tzpd",
    "outputId": "9306e758-c7f3-43f3-8242-541df3662155"
   },
   "outputs": [],
   "source": [
    "#Downloading the densenet model pretrained on the imagenet dataset\n",
    "densenet = tf.keras.applications.DenseNet169(weights='imagenet', include_top = False, input_shape=(224, 224, 3))\n"
   ]
  },
  {
   "cell_type": "code",
   "execution_count": 11,
   "metadata": {
    "id": "8V2hDX4W26yO"
   },
   "outputs": [],
   "source": [
    "#Freezing the weights of the pretrained model\n",
    "densenet.trainable = False"
   ]
  },
  {
   "cell_type": "code",
   "execution_count": 12,
   "metadata": {
    "colab": {
     "background_save": true
    },
    "id": "ZSdhpM7y4TQK",
    "outputId": "21c1d27c-ab97-4f55-e0aa-357687c5b3a3"
   },
   "outputs": [],
   "source": [
    "#Adding the Flatten layer and the sigmoid classification layer to the pretrained densenet model\n",
    "model = tf.keras.models.Sequential([\n",
    "    densenet,\n",
    "    tf.keras.layers.Flatten(),\n",
    "    tf.keras.layers.Dense(1, activation='sigmoid')\n",
    "])"
   ]
  },
  {
   "cell_type": "code",
   "execution_count": null,
   "metadata": {},
   "outputs": [],
   "source": []
  },
  {
   "cell_type": "code",
   "execution_count": 13,
   "metadata": {},
   "outputs": [
    {
     "name": "stdout",
     "output_type": "stream",
     "text": [
      "Model: \"sequential\"\n",
      "_________________________________________________________________\n",
      " Layer (type)                Output Shape              Param #   \n",
      "=================================================================\n",
      " densenet169 (Functional)    (None, 7, 7, 1664)        12642880  \n",
      "                                                                 \n",
      " flatten (Flatten)           (None, 81536)             0         \n",
      "                                                                 \n",
      " dense (Dense)               (None, 1)                 81537     \n",
      "                                                                 \n",
      "=================================================================\n",
      "Total params: 12,724,417\n",
      "Trainable params: 81,537\n",
      "Non-trainable params: 12,642,880\n",
      "_________________________________________________________________\n"
     ]
    }
   ],
   "source": [
    "model.summary()"
   ]
  },
  {
   "cell_type": "code",
   "execution_count": 14,
   "metadata": {},
   "outputs": [],
   "source": [
    "#Compiling the model using adam optimizer\n",
    "model.compile(loss=tf.keras.losses.binary_crossentropy,\n",
    "              optimizer=tf.keras.optimizers.Adam(),\n",
    "              metrics=['accuracy'])"
   ]
  },
  {
   "cell_type": "code",
   "execution_count": 15,
   "metadata": {},
   "outputs": [
    {
     "name": "stderr",
     "output_type": "stream",
     "text": [
      "C:\\Users\\tanay\\AppData\\Local\\Temp\\ipykernel_8244\\3510587823.py:2: UserWarning: `Model.fit_generator` is deprecated and will be removed in a future version. Please use `Model.fit`, which supports generators.\n",
      "  history = model.fit_generator(train_gen, epochs=15, validation_data=valid_gen, use_multiprocessing=False)\n"
     ]
    },
    {
     "name": "stdout",
     "output_type": "stream",
     "text": [
      "Epoch 1/15\n",
      "727/727 [==============================] - 1315s 2s/step - loss: 1.1885 - accuracy: 0.6756 - val_loss: 1.1450 - val_accuracy: 0.6797\n",
      "Epoch 2/15\n",
      "727/727 [==============================] - 1355s 2s/step - loss: 1.0434 - accuracy: 0.7332 - val_loss: 1.2022 - val_accuracy: 0.6982\n",
      "Epoch 3/15\n",
      "727/727 [==============================] - 1472s 2s/step - loss: 0.9414 - accuracy: 0.7602 - val_loss: 1.3255 - val_accuracy: 0.6815\n",
      "Epoch 4/15\n",
      "727/727 [==============================] - 1561s 2s/step - loss: 0.9148 - accuracy: 0.7807 - val_loss: 1.7020 - val_accuracy: 0.6696\n",
      "Epoch 5/15\n",
      "727/727 [==============================] - 1441s 2s/step - loss: 0.8207 - accuracy: 0.7918 - val_loss: 1.5352 - val_accuracy: 0.6815\n",
      "Epoch 6/15\n",
      "727/727 [==============================] - 1401s 2s/step - loss: 0.7029 - accuracy: 0.8115 - val_loss: 1.5380 - val_accuracy: 0.6720\n",
      "Epoch 7/15\n",
      "727/727 [==============================] - 1446s 2s/step - loss: 0.6977 - accuracy: 0.8195 - val_loss: 1.7449 - val_accuracy: 0.6560\n",
      "Epoch 8/15\n",
      "727/727 [==============================] - 1418s 2s/step - loss: 0.6461 - accuracy: 0.8313 - val_loss: 1.5855 - val_accuracy: 0.6892\n",
      "Epoch 9/15\n",
      "727/727 [==============================] - 1392s 2s/step - loss: 0.6780 - accuracy: 0.8304 - val_loss: 1.8483 - val_accuracy: 0.6803\n",
      "Epoch 10/15\n",
      "727/727 [==============================] - 1334s 2s/step - loss: 0.6212 - accuracy: 0.8442 - val_loss: 1.9270 - val_accuracy: 0.6887\n",
      "Epoch 11/15\n",
      "727/727 [==============================] - 1352s 2s/step - loss: 0.5497 - accuracy: 0.8549 - val_loss: 1.9714 - val_accuracy: 0.6649\n",
      "Epoch 12/15\n",
      "727/727 [==============================] - 1373s 2s/step - loss: 0.5595 - accuracy: 0.8581 - val_loss: 1.9665 - val_accuracy: 0.6667\n",
      "Epoch 13/15\n",
      "727/727 [==============================] - 1371s 2s/step - loss: 0.4929 - accuracy: 0.8681 - val_loss: 2.0705 - val_accuracy: 0.6815\n",
      "Epoch 14/15\n",
      "727/727 [==============================] - 1399s 2s/step - loss: 0.5070 - accuracy: 0.8663 - val_loss: 2.2557 - val_accuracy: 0.6827\n",
      "Epoch 15/15\n",
      "727/727 [==============================] - 1553s 2s/step - loss: 0.4211 - accuracy: 0.8815 - val_loss: 2.1638 - val_accuracy: 0.6803\n"
     ]
    }
   ],
   "source": [
    "#Fitting the model on training test\n",
    "history = model.fit_generator(train_gen, epochs=15, validation_data=valid_gen, use_multiprocessing=False)"
   ]
  },
  {
   "cell_type": "code",
   "execution_count": 16,
   "metadata": {},
   "outputs": [
    {
     "name": "stdout",
     "output_type": "stream",
     "text": [
      "Saved model to disk\n"
     ]
    }
   ],
   "source": [
    "#Saving the model weights\n",
    "model.save(\"bonemodel.h5\")\n",
    "print(\"Saved model to disk\")"
   ]
  },
  {
   "cell_type": "code",
   "execution_count": 17,
   "metadata": {},
   "outputs": [
    {
     "name": "stdout",
     "output_type": "stream",
     "text": [
      "Model: \"sequential\"\n",
      "_________________________________________________________________\n",
      " Layer (type)                Output Shape              Param #   \n",
      "=================================================================\n",
      " densenet169 (Functional)    (None, 7, 7, 1664)        12642880  \n",
      "                                                                 \n",
      " flatten (Flatten)           (None, 81536)             0         \n",
      "                                                                 \n",
      " dense (Dense)               (None, 1)                 81537     \n",
      "                                                                 \n",
      "=================================================================\n",
      "Total params: 12,724,417\n",
      "Trainable params: 81,537\n",
      "Non-trainable params: 12,642,880\n",
      "_________________________________________________________________\n"
     ]
    }
   ],
   "source": [
    "# Loading the saved model\n",
    "\n",
    "from tensorflow.keras.preprocessing.image import img_to_array\n",
    "from tensorflow.keras.models import load_model\n",
    "model_new = load_model('bonemodel.h5')\n",
    "model_new.summary()"
   ]
  },
  {
   "cell_type": "code",
   "execution_count": 18,
   "metadata": {},
   "outputs": [
    {
     "data": {
      "image/png": "[encoded data removed]",
      "text/plain": [
       "<PIL.Image.Image image mode=RGB size=224x224>"
      ]
     },
     "execution_count": 18,
     "metadata": {},
     "output_type": "execute_result"
    }
   ],
   "source": [
    "from keras.preprocessing import image\n",
    "from keras.preprocessing.image import ImageDataGenerator\n",
    "from keras.layers import Input, Lambda, Dense, Flatten\n",
    "from keras.models import Model\n",
    "\n",
    "img = tf.keras.utils.load_img(\"D:/codes/GAIP-NUS/image1.png\", target_size=(224,224))\n",
    "img"
   ]
  },
  {
   "cell_type": "code",
   "execution_count": 19,
   "metadata": {
    "scrolled": true
   },
   "outputs": [
    {
     "data": {
      "text/plain": [
       "array([[[[ 54.,  54.,  54.],\n",
       "         [ 42.,  42.,  42.],\n",
       "         [ 43.,  43.,  43.],\n",
       "         ...,\n",
       "         [ 11.,  11.,  11.],\n",
       "         [ 11.,  11.,  11.],\n",
       "         [ 11.,  11.,  11.]],\n",
       "\n",
       "        [[ 42.,  42.,  42.],\n",
       "         [ 38.,  38.,  38.],\n",
       "         [ 41.,  41.,  41.],\n",
       "         ...,\n",
       "         [ 11.,  11.,  11.],\n",
       "         [ 11.,  11.,  11.],\n",
       "         [ 11.,  11.,  11.]],\n",
       "\n",
       "        [[ 41.,  41.,  41.],\n",
       "         [ 35.,  35.,  35.],\n",
       "         [ 38.,  38.,  38.],\n",
       "         ...,\n",
       "         [ 11.,  11.,  11.],\n",
       "         [ 11.,  11.,  11.],\n",
       "         [ 11.,  11.,  11.]],\n",
       "\n",
       "        ...,\n",
       "\n",
       "        [[ 99.,  99.,  99.],\n",
       "         [ 77.,  77.,  77.],\n",
       "         [ 63.,  63.,  63.],\n",
       "         ...,\n",
       "         [116., 116., 116.],\n",
       "         [114., 114., 114.],\n",
       "         [120., 120., 120.]],\n",
       "\n",
       "        [[103., 103., 103.],\n",
       "         [ 78.,  78.,  78.],\n",
       "         [ 64.,  64.,  64.],\n",
       "         ...,\n",
       "         [123., 123., 123.],\n",
       "         [122., 122., 122.],\n",
       "         [124., 124., 124.]],\n",
       "\n",
       "        [[ 95.,  95.,  95.],\n",
       "         [ 82.,  82.,  82.],\n",
       "         [ 78.,  78.,  78.],\n",
       "         ...,\n",
       "         [121., 121., 121.],\n",
       "         [113., 113., 113.],\n",
       "         [118., 118., 118.]]]], dtype=float32)"
      ]
     },
     "execution_count": 19,
     "metadata": {},
     "output_type": "execute_result"
    }
   ],
   "source": [
    "#convert image to array\n",
    "input_img = tf.keras.utils.img_to_array(img)\n",
    "input_img = np.expand_dims(input_img, axis=0)\n",
    "input_img"
   ]
  },
  {
   "cell_type": "code",
   "execution_count": 20,
   "metadata": {},
   "outputs": [
    {
     "name": "stdout",
     "output_type": "stream",
     "text": [
      "1/1 [==============================] - 2s 2s/step\n",
      "No Fracture\n"
     ]
    }
   ],
   "source": [
    "class_arr = [\"No Fracture\", \"Fracture\"]\n",
    "\n",
    "#Predict the inputs on the model\n",
    "\n",
    "predict_img = model.predict(input_img)\n",
    "predict_img\n",
    "\n",
    "max_value = max(list(predict_img))\n",
    "a = list(max_value)\n",
    "a\n",
    "index = a.index(max_value)\n",
    "print(class_arr[index])"
   ]
  },
  {
   "cell_type": "code",
   "execution_count": 22,
   "metadata": {},
   "outputs": [
    {
     "name": "stdout",
     "output_type": "stream",
     "text": [
      "53/53 [==============================] - 95s 2s/step - loss: 2.1638 - accuracy: 0.6803\n",
      "The testing accuracy is:  68.03327202796936 %\n"
     ]
    }
   ],
   "source": [
    "test_acc = model.evaluate(valid_gen)\n",
    "print(\"The testing accuracy is: \", test_acc[1]*100, \"%\")"
   ]
  },
  {
   "cell_type": "code",
   "execution_count": null,
   "metadata": {},
   "outputs": [],
   "source": [
    "df = pd.DataFrame(history.history)\n",
    "df = df.astype(float)\n",
    "df.plot()"
   ]
  },
  {
   "cell_type": "code",
   "execution_count": 40,
   "metadata": {},
   "outputs": [
    {
     "data": {
      "image/png": "[encoded data removed]",
      "text/plain": [
       "<Figure size 640x480 with 1 Axes>"
      ]
     },
     "metadata": {},
     "output_type": "display_data"
    }
   ],
   "source": [
    "loss_train = history.history['accuracy']\n",
    "loss_val = history.history['loss']\n",
    "epochs = range(0,15)\n",
    "plt.plot(epochs, loss_train, 'g', label='Accuracy')\n",
    "plt.plot(epochs, loss_val, 'b', label='Loss')\n",
    "plt.title('Accuracy and Loss')\n",
    "plt.xlabel('Epochs')\n",
    "plt.ylabel('')\n",
    "plt.legend()\n",
    "plt.show()"
   ]
  },
  {
   "cell_type": "code",
   "execution_count": 2,
   "metadata": {},
   "outputs": [
    {
     "name": "stdout",
     "output_type": "stream",
     "text": [
      "Model: \"sequential\"\n",
      "_________________________________________________________________\n",
      " Layer (type)                Output Shape              Param #   \n",
      "=================================================================\n",
      " densenet169 (Functional)    (None, 7, 7, 1664)        12642880  \n",
      "                                                                 \n",
      " flatten (Flatten)           (None, 81536)             0         \n",
      "                                                                 \n",
      " dense (Dense)               (None, 1)                 81537     \n",
      "                                                                 \n",
      "=================================================================\n",
      "Total params: 12,724,417\n",
      "Trainable params: 81,537\n",
      "Non-trainable params: 12,642,880\n",
      "_________________________________________________________________\n"
     ]
    }
   ],
   "source": [
    "from tensorflow.keras.preprocessing.image import img_to_array\n",
    "from tensorflow.keras.models import load_model\n",
    "model_new = load_model('bonemodel.h5')\n",
    "model_new.summary()"
   ]
  },
  {
   "cell_type": "code",
   "execution_count": 6,
   "metadata": {},
   "outputs": [
    {
     "data": {
      "image/png": "[encoded data removed]",
      "text/plain": [
       "<PIL.Image.Image image mode=RGB size=224x224>"
      ]
     },
     "execution_count": 6,
     "metadata": {},
     "output_type": "execute_result"
    }
   ],
   "source": [
    "from keras.preprocessing import image\n",
    "from keras.preprocessing.image import ImageDataGenerator\n",
    "from keras.layers import Input, Lambda, Dense, Flatten\n",
    "from keras.models import Model\n",
    "#importing the necessary libraries\n",
    "import tensorflow as tf\n",
    "from tensorflow.keras import layers\n",
    "from skimage.io import imshow\n",
    "from pathlib import Path\n",
    "import pandas as pd\n",
    "\n",
    "img = tf.keras.utils.load_img(\"D:/codes/GAIP-NUS/image1.png\", target_size=(224,224))\n",
    "img"
   ]
  },
  {
   "cell_type": "code",
   "execution_count": 7,
   "metadata": {},
   "outputs": [
    {
     "data": {
      "text/plain": [
       "array([[[[ 54.,  54.,  54.],\n",
       "         [ 42.,  42.,  42.],\n",
       "         [ 43.,  43.,  43.],\n",
       "         ...,\n",
       "         [ 11.,  11.,  11.],\n",
       "         [ 11.,  11.,  11.],\n",
       "         [ 11.,  11.,  11.]],\n",
       "\n",
       "        [[ 42.,  42.,  42.],\n",
       "         [ 38.,  38.,  38.],\n",
       "         [ 41.,  41.,  41.],\n",
       "         ...,\n",
       "         [ 11.,  11.,  11.],\n",
       "         [ 11.,  11.,  11.],\n",
       "         [ 11.,  11.,  11.]],\n",
       "\n",
       "        [[ 41.,  41.,  41.],\n",
       "         [ 35.,  35.,  35.],\n",
       "         [ 38.,  38.,  38.],\n",
       "         ...,\n",
       "         [ 11.,  11.,  11.],\n",
       "         [ 11.,  11.,  11.],\n",
       "         [ 11.,  11.,  11.]],\n",
       "\n",
       "        ...,\n",
       "\n",
       "        [[ 99.,  99.,  99.],\n",
       "         [ 77.,  77.,  77.],\n",
       "         [ 63.,  63.,  63.],\n",
       "         ...,\n",
       "         [116., 116., 116.],\n",
       "         [114., 114., 114.],\n",
       "         [120., 120., 120.]],\n",
       "\n",
       "        [[103., 103., 103.],\n",
       "         [ 78.,  78.,  78.],\n",
       "         [ 64.,  64.,  64.],\n",
       "         ...,\n",
       "         [123., 123., 123.],\n",
       "         [122., 122., 122.],\n",
       "         [124., 124., 124.]],\n",
       "\n",
       "        [[ 95.,  95.,  95.],\n",
       "         [ 82.,  82.,  82.],\n",
       "         [ 78.,  78.,  78.],\n",
       "         ...,\n",
       "         [121., 121., 121.],\n",
       "         [113., 113., 113.],\n",
       "         [118., 118., 118.]]]], dtype=float32)"
      ]
     },
     "execution_count": 7,
     "metadata": {},
     "output_type": "execute_result"
    }
   ],
   "source": [
    "#convert image to array\n",
    "input_img = tf.keras.utils.img_to_array(img)\n",
    "input_img = np.expand_dims(input_img, axis=0)\n",
    "input_img"
   ]
  },
  {
   "cell_type": "code",
   "execution_count": 9,
   "metadata": {},
   "outputs": [
    {
     "name": "stdout",
     "output_type": "stream",
     "text": [
      "1/1 [==============================] - 2s 2s/step\n",
      "No Fracture\n"
     ]
    }
   ],
   "source": [
    "class_arr = [\"No Fracture\", \"Fracture\"]\n",
    "\n",
    "#Predict the inputs on the model\n",
    "\n",
    "predict_img = model_new.predict(input_img)\n",
    "predict_img\n",
    "\n",
    "max_value = max(list(predict_img))\n",
    "a = list(max_value)\n",
    "a\n",
    "index = a.index(max_value)\n",
    "print(class_arr[index])"
   ]
  },
  {
   "cell_type": "code",
   "execution_count": null,
   "metadata": {},
   "outputs": [],
   "source": []
  }
 ],
 "metadata": {
  "accelerator": "GPU",
  "colab": {
   "provenance": []
  },
  "gpuClass": "standard",
  "kernelspec": {
   "display_name": "Python 3 (ipykernel)",
   "language": "python",
   "name": "python3"
  },
  "language_info": {
   "codemirror_mode": {
    "name": "ipython",
    "version": 3
   },
   "file_extension": ".py",
   "mimetype": "text/x-python",
   "name": "python",
   "nbconvert_exporter": "python",
   "pygments_lexer": "ipython3",
   "version": "3.9.13"
  }
 },
 "nbformat": 4,
 "nbformat_minor": 1
}
